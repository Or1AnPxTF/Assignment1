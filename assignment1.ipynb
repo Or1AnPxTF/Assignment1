{
 "cells": [
  {
   "cell_type": "markdown",
   "id": "3b4b3053-2711-40f9-baa7-cfac191524fd",
   "metadata": {},
   "source": [
    "# Q1) Variables containing different datatypes:\n"
   ]
  },
  {
   "cell_type": "code",
   "execution_count": 41,
   "id": "1ec2e488-3925-4c0f-a4d3-6d84724825d2",
   "metadata": {},
   "outputs": [
    {
     "name": "stdout",
     "output_type": "stream",
     "text": [
      "apple\n",
      "['Earth', 234.56, 78]\n",
      "576.98\n",
      "(5, 9, 'a', 'B')\n"
     ]
    }
   ],
   "source": [
    "#Ans:\n",
    "ch = \"apple\" \n",
    "L = [\"Earth\",234.56,78]\n",
    "f = 576.98 \n",
    "t = (5,9,\"a\",\"B\")\n",
    "for i in [ch,L,f,t]:\n",
    "    print(i)\n",
    "     "
   ]
  },
  {
   "cell_type": "markdown",
   "id": "6de4d21b-2254-41f9-ad10-619dee15f3a6",
   "metadata": {},
   "source": [
    "# Q2) Datatypes of given variables using type() function"
   ]
  },
  {
   "cell_type": "code",
   "execution_count": 42,
   "id": "edf2650b-3d5b-4236-bccd-eed9b9caf5bc",
   "metadata": {},
   "outputs": [
    {
     "name": "stdout",
     "output_type": "stream",
     "text": [
      "<class 'str'>\n",
      "<class 'str'>\n",
      "<class 'list'>\n",
      "<class 'float'>\n"
     ]
    }
   ],
   "source": [
    "#Ans:\n",
    "var1 = ''\n",
    "var2 = '[ DS , ML , Python]'\n",
    "var3 = [ 'DS' , 'ML' , 'Python' ]\n",
    "var4 = 1.\n",
    "for i in [var1,var2,var3,var4]:\n",
    "    print(type(i))"
   ]
  },
  {
   "cell_type": "markdown",
   "id": "1a905b9f-a9af-48b8-8ee2-6383ff22191a",
   "metadata": {},
   "source": [
    "# Q3) Use of the following operators using an example"
   ]
  },
  {
   "cell_type": "markdown",
   "id": "12ee47cd-9c3c-41e7-a964-6f5ebc834bef",
   "metadata": {},
   "source": [
    "## Ans:\n",
    "    a) / -It is the division operator that divides the first operand by the second.\n",
    "    \n",
    "    b) % -It is the modulus operator which returns the remainder value after the division operation. \n",
    "    \n",
    "    c) // -It is the floor division operator that returns the floor of the quotient when the first operand is divided by the second operand.\n",
    "    \n",
    "    d) ** -It is the exponentiation operator used to raise the first operand to the power of second operand."
   ]
  },
  {
   "cell_type": "code",
   "execution_count": 43,
   "id": "5bf3255e-09ef-479b-bab6-869991426105",
   "metadata": {},
   "outputs": [
    {
     "name": "stdout",
     "output_type": "stream",
     "text": [
      "7.857142857142857\n",
      "3\n",
      "8\n",
      "390625\n"
     ]
    }
   ],
   "source": [
    "#code\n",
    "a=55/7\n",
    "b=678%5\n",
    "c=56//7\n",
    "d=5**8\n",
    "for i in [a,b,c,d]:\n",
    "    print(i)"
   ]
  },
  {
   "cell_type": "markdown",
   "id": "b6a04515-be75-4ace-9483-44d02ed96835",
   "metadata": {},
   "source": [
    "# Q4) Create a list of length 10 of your choice containing multiple types of data. Using for loop, print the element and its data type."
   ]
  },
  {
   "cell_type": "code",
   "execution_count": 44,
   "id": "8b40eac0-1795-48a3-ba24-0f69bea1157e",
   "metadata": {},
   "outputs": [
    {
     "name": "stdout",
     "output_type": "stream",
     "text": [
      "mango,<class 'str'>\n",
      "235,<class 'int'>\n",
      "78.09,<class 'float'>\n",
      "THOMAS,<class 'str'>\n",
      "True,<class 'bool'>\n",
      "(72+543j),<class 'complex'>\n",
      "[45],<class 'list'>\n",
      "False,<class 'bool'>\n",
      "{56},<class 'set'>\n",
      "{1: 'harry', 2: 'Joy'},<class 'dict'>\n"
     ]
    }
   ],
   "source": [
    "#code:\n",
    "Lt=[\"mango\",235,78.09,\"THOMAS\",True,72+543j,[45],False,{56},{1:\"harry\",2:\"Joy\"}]\n",
    "for i in Lt:\n",
    "    print(i,end=\",\")\n",
    "    print(type(i))"
   ]
  },
  {
   "cell_type": "markdown",
   "id": "af3c3eca-89a3-47e8-b16a-8fa1a5c720b1",
   "metadata": {},
   "source": [
    "# Q5) Using a while loop, verify if the number A is purely divisible by number B and if so then how many times it can be divisible. "
   ]
  },
  {
   "cell_type": "code",
   "execution_count": 46,
   "id": "5527598a-4e8e-4e52-8fec-bfc6afaf9f60",
   "metadata": {},
   "outputs": [
    {
     "name": "stdin",
     "output_type": "stream",
     "text": [
      "Enter value of A: 16\n",
      "Enter value of B: 4\n"
     ]
    },
    {
     "name": "stdout",
     "output_type": "stream",
     "text": [
      "No. of times A is divisible by B is= 2\n"
     ]
    }
   ],
   "source": [
    "#code:\n",
    "A=int(input(\"Enter value of A:\"))\n",
    "B=int(input(\"Enter value of B:\"))\n",
    "count=0 #count tracker\n",
    "\n",
    "while (A%B==0) and B!=0:\n",
    "      count=count+1\n",
    "      A //= B  #repeatedly divides as long as the remainder is zero\n",
    "      \n",
    "if B!=0:\n",
    "      print(\"No. of times A is divisible by B is=\",count)\n",
    "else:\n",
    "      print(\"A cannot be divided by zero\")\n",
    "    \n",
    "    "
   ]
  },
  {
   "cell_type": "markdown",
   "id": "464cd053-3af1-4cf4-b6f4-155bfa61a305",
   "metadata": {},
   "source": [
    "# Q6)Create a list containing 25 int type data. Using for loop and if-else condition print if the element is divisible by 3 or not."
   ]
  },
  {
   "cell_type": "code",
   "execution_count": 47,
   "id": "28a2354d-d919-4c94-9441-5d536498ceb2",
   "metadata": {},
   "outputs": [
    {
     "name": "stdout",
     "output_type": "stream",
     "text": [
      "length of list: 25\n",
      "23 not divisible by 3\n",
      "456 is divisible by 3\n",
      "57 is divisible by 3\n",
      "56 not divisible by 3\n",
      "78 is divisible by 3\n",
      "32 not divisible by 3\n",
      "12345 is divisible by 3\n",
      "5690 not divisible by 3\n",
      "8745 is divisible by 3\n",
      "59 not divisible by 3\n",
      "87 is divisible by 3\n",
      "91 not divisible by 3\n",
      "2900 not divisible by 3\n",
      "72 is divisible by 3\n",
      "38 not divisible by 3\n",
      "27 is divisible by 3\n",
      "1 not divisible by 3\n",
      "3 is divisible by 3\n",
      "1156 not divisible by 3\n",
      "456788 not divisible by 3\n",
      "985342 not divisible by 3\n",
      "334 not divisible by 3\n",
      "222 is divisible by 3\n",
      "111 is divisible by 3\n",
      "8554 not divisible by 3\n"
     ]
    }
   ],
   "source": [
    "#Code:\n",
    "L=[23,456,57,56,78,32,12345,5690,8745,59,87,91,2900,72,38,27,1,3,1156,456788,985342,334,222,111,8554]\n",
    "print(\"length of list:\",len(L))\n",
    "for i in L:\n",
    "    if i%3==0:\n",
    "        print(i,\"is divisible by 3\",end=\"\\n\")\n",
    "    else:\n",
    "        print(i,\"not divisible by 3\",end=\"\\n\")"
   ]
  },
  {
   "cell_type": "markdown",
   "id": "4b02ff9d-9224-4afe-96de-6971e8d59af2",
   "metadata": {},
   "source": [
    "# Q7) What do you understand about mutable and immutable data types? Give examples for both showing this property."
   ]
  },
  {
   "cell_type": "markdown",
   "id": "95888c38-ecf4-4df7-81ef-d784aece9593",
   "metadata": {},
   "source": [
    "## Ans:\n",
    "     a)Mutable Datatypes:- Mutability means that in the same memory address,new value can be stored.The mutable types are those whose values can be changed.Only 3 types of data type are mutable in python.These are lists,dictionaries and sets.\n",
    "     \n",
    "         "
   ]
  },
  {
   "cell_type": "code",
   "execution_count": 48,
   "id": "9b44518b-558f-43a6-ba98-7e1cf66bbd07",
   "metadata": {},
   "outputs": [
    {
     "name": "stdout",
     "output_type": "stream",
     "text": [
      "[2, 4, 5]\n",
      "[2, 7, 5]\n"
     ]
    }
   ],
   "source": [
    "#example\n",
    "ch=[2,4,5]\n",
    "print(ch)\n",
    "ch[1]=7\n",
    "print(ch)"
   ]
  },
  {
   "cell_type": "markdown",
   "id": "542fe152-147c-4dfc-a81d-58fabc8c2e7f",
   "metadata": {},
   "source": [
    "    b)Immutable Datatypes:-The immutable types are those that can never change their value in place.In python,the following are immutable datatypes : integers,floats,booleans,strings,tuples.\n",
    "    In immutable types,the variable names are stored as references to a value-object.Each time we change the value ,the variable's reference memory address changes."
   ]
  },
  {
   "cell_type": "code",
   "execution_count": 49,
   "id": "0e3770bf-8aba-4484-b5ce-684b778dca90",
   "metadata": {},
   "outputs": [
    {
     "name": "stdout",
     "output_type": "stream",
     "text": [
      "5 5 5\n",
      "10 7 7\n"
     ]
    }
   ],
   "source": [
    "#example\n",
    "p=5\n",
    "q=p\n",
    "r=5\n",
    "print(p,q,r) #having same value object\n",
    "\n",
    "p=10\n",
    "r=7\n",
    "q=r\n",
    "print(p,q,r) #Variable's reference memory address changes"
   ]
  }
 ],
 "metadata": {
  "kernelspec": {
   "display_name": "Python 3 (ipykernel)",
   "language": "python",
   "name": "python3"
  },
  "language_info": {
   "codemirror_mode": {
    "name": "ipython",
    "version": 3
   },
   "file_extension": ".py",
   "mimetype": "text/x-python",
   "name": "python",
   "nbconvert_exporter": "python",
   "pygments_lexer": "ipython3",
   "version": "3.10.8"
  }
 },
 "nbformat": 4,
 "nbformat_minor": 5
}
